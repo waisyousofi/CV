{
  "cells": [
    {
      "cell_type": "markdown",
      "source": [
        "[![Open In Colab](https://colab.research.google.com/assets/colab-badge.svg)](https://colab.research.google.com/github/waisyousofi/DL_for_Computer_vision/blob/main/Image_classification/Image_classification_CNN.ipynb)"
      ],
      "metadata": {
        "id": "N3qfZ-jjAKtu"
      }
    },
    {
      "cell_type": "markdown",
      "metadata": {
        "id": "uM9djZn92E2B"
      },
      "source": [
        "#Task\n",
        "Image classification using CNN"
      ]
    },
    {
      "cell_type": "markdown",
      "metadata": {
        "id": "fTBTlXvG-Zx2"
      },
      "source": [
        "#Imports"
      ]
    },
    {
      "cell_type": "code",
      "execution_count": 3,
      "metadata": {
        "id": "ZAOwxMI0Lvk6"
      },
      "outputs": [],
      "source": [
        "!pip install --quiet ipython-autotime"
      ]
    },
    {
      "cell_type": "code",
      "execution_count": 4,
      "metadata": {
        "colab": {
          "base_uri": "https://localhost:8080/"
        },
        "id": "YsZvUeHgessg",
        "outputId": "b281767d-4cf6-49af-e8e9-d93136d88b94"
      },
      "outputs": [
        {
          "output_type": "stream",
          "name": "stdout",
          "text": [
            "time: 283 µs (started: 2022-09-03 06:26:31 +00:00)\n"
          ]
        }
      ],
      "source": [
        "import tensorflow as tf\n",
        "from tensorflow.keras import datasets,layers, models\n",
        "from tensorflow.keras.preprocessing.image import ImageDataGenerator\n",
        "from tensorflow.keras.preprocessing import image\n",
        "from tensorflow.keras.optimizers import Adam\n",
        "import matplotlib.pyplot as plt\n",
        "import numpy as np\n",
        "from tensorflow import keras\n",
        "import cv2\n",
        "from cv2 import resize\n",
        "import os\n",
        "from sklearn.metrics import classification_report\n",
        "%load_ext autotime"
      ]
    },
    {
      "cell_type": "code",
      "execution_count": 5,
      "metadata": {
        "id": "DGkdtOwBp114",
        "colab": {
          "base_uri": "https://localhost:8080/"
        },
        "outputId": "b27caef3-433e-4d48-9de1-5e7b20e1ffa5"
      },
      "outputs": [
        {
          "output_type": "execute_result",
          "data": {
            "text/plain": [
              "True"
            ]
          },
          "metadata": {},
          "execution_count": 5
        },
        {
          "output_type": "stream",
          "name": "stdout",
          "text": [
            "time: 12.8 ms (started: 2022-09-03 06:26:31 +00:00)\n"
          ]
        }
      ],
      "source": [
        "tf.test.is_built_with_cuda()"
      ]
    },
    {
      "cell_type": "markdown",
      "metadata": {
        "id": "by0jIyqs-ilP"
      },
      "source": [
        "#Dataset(CIFAR10)\n",
        "\n",
        "* 60000, 32x32 color mages in 10 classes( 6000 images per class).\n",
        "\n",
        "\n",
        "* 50000 training\n",
        "\n",
        "* 10000 testing\n"
      ]
    },
    {
      "cell_type": "code",
      "execution_count": 6,
      "metadata": {
        "colab": {
          "base_uri": "https://localhost:8080/"
        },
        "id": "B1jAeCYIf2mH",
        "outputId": "a27cd8ec-a4c6-498b-faae-37707dc46dec"
      },
      "outputs": [
        {
          "output_type": "stream",
          "name": "stdout",
          "text": [
            "Downloading data from https://www.cs.toronto.edu/~kriz/cifar-10-python.tar.gz\n",
            "170500096/170498071 [==============================] - 2s 0us/step\n",
            "170508288/170498071 [==============================] - 2s 0us/step\n",
            "time: 5.25 s (started: 2022-09-03 06:26:31 +00:00)\n"
          ]
        }
      ],
      "source": [
        "(xtrain, ytrain), (xtest,ytest) = datasets.cifar10.load_data()"
      ]
    },
    {
      "cell_type": "markdown",
      "metadata": {
        "id": "sEpw1ImlH4Ja"
      },
      "source": [
        "#EDA"
      ]
    },
    {
      "cell_type": "code",
      "execution_count": 7,
      "metadata": {
        "colab": {
          "base_uri": "https://localhost:8080/"
        },
        "id": "TQXSkf1EgG-j",
        "outputId": "c78136d6-20cd-4ea9-c70e-fc162021b09e"
      },
      "outputs": [
        {
          "output_type": "stream",
          "name": "stdout",
          "text": [
            "The dimensions of xtrain:->(50000, 32, 32, 3)\n",
            "The dimensions of xtest:->(10000, 32, 32, 3)\n",
            "The dimensions ytrain:->(50000, 1)\n",
            "The dimensions ytrain(10000, 1)\n",
            "time: 2.73 ms (started: 2022-09-03 06:26:36 +00:00)\n"
          ]
        }
      ],
      "source": [
        "print(f\"The dimensions of xtrain:->{xtrain.shape}\\nThe dimensions of xtest:->{xtest.shape}\\nThe dimensions ytrain:->{ytrain.shape}\\\n",
        "\\nThe dimensions ytrain{ytest.shape}\" )"
      ]
    },
    {
      "cell_type": "code",
      "execution_count": 8,
      "metadata": {
        "colab": {
          "base_uri": "https://localhost:8080/"
        },
        "id": "byX6d0PdHEms",
        "outputId": "1b0c90f9-bf9f-49b7-9558-9d4cd2a10a0f"
      },
      "outputs": [
        {
          "output_type": "stream",
          "name": "stdout",
          "text": [
            "[[[158 112  49]\n",
            "  [159 111  47]\n",
            "  [165 116  51]\n",
            "  ...\n",
            "  [137  95  36]\n",
            "  [126  91  36]\n",
            "  [116  85  33]]\n",
            "\n",
            " [[152 112  51]\n",
            "  [151 110  40]\n",
            "  [159 114  45]\n",
            "  ...\n",
            "  [136  95  31]\n",
            "  [125  91  32]\n",
            "  [119  88  34]]\n",
            "\n",
            " [[151 110  47]\n",
            "  [151 109  33]\n",
            "  [158 111  36]\n",
            "  ...\n",
            "  [139  98  34]\n",
            "  [130  95  34]\n",
            "  [120  89  33]]\n",
            "\n",
            " ...\n",
            "\n",
            " [[ 68 124 177]\n",
            "  [ 42 100 148]\n",
            "  [ 31  88 137]\n",
            "  ...\n",
            "  [ 38  97 146]\n",
            "  [ 13  64 108]\n",
            "  [ 40  85 127]]\n",
            "\n",
            " [[ 61 116 168]\n",
            "  [ 49 102 148]\n",
            "  [ 35  85 132]\n",
            "  ...\n",
            "  [ 26  82 130]\n",
            "  [ 29  82 126]\n",
            "  [ 20  64 107]]\n",
            "\n",
            " [[ 54 107 160]\n",
            "  [ 56 105 149]\n",
            "  [ 45  89 132]\n",
            "  ...\n",
            "  [ 24  77 124]\n",
            "  [ 34  84 129]\n",
            "  [ 21  67 110]]]\n",
            "time: 3.02 ms (started: 2022-09-03 06:26:36 +00:00)\n"
          ]
        }
      ],
      "source": [
        "print(xtest[0])"
      ]
    },
    {
      "cell_type": "code",
      "execution_count": 9,
      "metadata": {
        "colab": {
          "base_uri": "https://localhost:8080/"
        },
        "id": "tFnIkcNlFZJM",
        "outputId": "44a6cdab-ea54-460a-d865-a958d96c266e"
      },
      "outputs": [
        {
          "output_type": "stream",
          "name": "stdout",
          "text": [
            "[[3]\n",
            " [8]\n",
            " [8]\n",
            " [0]\n",
            " [6]]\n",
            "time: 2.71 ms (started: 2022-09-03 06:26:36 +00:00)\n"
          ]
        }
      ],
      "source": [
        "print(ytest[:5])"
      ]
    },
    {
      "cell_type": "code",
      "execution_count": 10,
      "metadata": {
        "colab": {
          "base_uri": "https://localhost:8080/"
        },
        "id": "bVTf_lzpFrj2",
        "outputId": "e756243b-94cd-4e55-9c24-ed85e0ae2abb"
      },
      "outputs": [
        {
          "output_type": "stream",
          "name": "stdout",
          "text": [
            "time: 1.36 ms (started: 2022-09-03 06:26:36 +00:00)\n"
          ]
        }
      ],
      "source": [
        "classes = [\"airplane\",\"automobile\",\"bird\",\"cat\",\"deer\",\"dog\",\"frog\",\"horse\",\"ship\",\"truck\"]\n",
        "def plot_sample(x,y,index):\n",
        "    plt.figure(figsize = (15,2))\n",
        "    plt.imshow(x[index])\n",
        "    plt.xlabel(classes[y[index]])"
      ]
    },
    {
      "cell_type": "code",
      "source": [
        "print(type(ytrain))"
      ],
      "metadata": {
        "colab": {
          "base_uri": "https://localhost:8080/"
        },
        "id": "zDTgai8IiaPZ",
        "outputId": "e5939739-15a1-4909-ee24-4beefd2483f2"
      },
      "execution_count": 11,
      "outputs": [
        {
          "output_type": "stream",
          "name": "stdout",
          "text": [
            "<class 'numpy.ndarray'>\n",
            "time: 2.31 ms (started: 2022-09-03 06:26:36 +00:00)\n"
          ]
        }
      ]
    },
    {
      "cell_type": "code",
      "execution_count": 12,
      "metadata": {
        "colab": {
          "base_uri": "https://localhost:8080/"
        },
        "id": "Rj5fEYrhRTJ9",
        "outputId": "54f3a5bf-130c-4369-c606-30b21e8c7f64"
      },
      "outputs": [
        {
          "output_type": "stream",
          "name": "stdout",
          "text": [
            "time: 608 µs (started: 2022-09-03 06:26:36 +00:00)\n"
          ]
        }
      ],
      "source": [
        "#from 2D array to 1D array change of shape\n",
        "ytrain = ytrain.reshape(-1,)"
      ]
    },
    {
      "cell_type": "code",
      "source": [
        "print(ytrain)"
      ],
      "metadata": {
        "colab": {
          "base_uri": "https://localhost:8080/"
        },
        "id": "yqajqfid_KnY",
        "outputId": "48e06afc-834c-4e02-e3b9-becb5574154b"
      },
      "execution_count": 13,
      "outputs": [
        {
          "output_type": "stream",
          "name": "stdout",
          "text": [
            "[6 9 9 ... 9 1 1]\n",
            "time: 869 µs (started: 2022-09-03 06:26:36 +00:00)\n"
          ]
        }
      ]
    },
    {
      "cell_type": "code",
      "source": [
        "print(ytrain.shape)"
      ],
      "metadata": {
        "colab": {
          "base_uri": "https://localhost:8080/"
        },
        "id": "IofH49Hj_k_p",
        "outputId": "7c56c3cc-a0e5-4436-8437-f26cc8104355"
      },
      "execution_count": 14,
      "outputs": [
        {
          "output_type": "stream",
          "name": "stdout",
          "text": [
            "(50000,)\n",
            "time: 614 µs (started: 2022-09-03 06:26:36 +00:00)\n"
          ]
        }
      ]
    },
    {
      "cell_type": "code",
      "source": [
        "print(xtrain.shape)"
      ],
      "metadata": {
        "colab": {
          "base_uri": "https://localhost:8080/"
        },
        "id": "DkfO2jqG_VSE",
        "outputId": "2485b81d-942a-4fce-ba37-275eb76ae50e"
      },
      "execution_count": 15,
      "outputs": [
        {
          "output_type": "stream",
          "name": "stdout",
          "text": [
            "(50000, 32, 32, 3)\n",
            "time: 745 µs (started: 2022-09-03 06:26:36 +00:00)\n"
          ]
        }
      ]
    },
    {
      "cell_type": "code",
      "execution_count": 16,
      "metadata": {
        "colab": {
          "base_uri": "https://localhost:8080/",
          "height": 191
        },
        "id": "1XmqGPaEGOC3",
        "outputId": "38166ae9-de97-47f0-dbef-52ea543946bc"
      },
      "outputs": [
        {
          "output_type": "display_data",
          "data": {
            "text/plain": [
              "<Figure size 1080x144 with 1 Axes>"
            ],
            "image/png": "[encoded data removed]"
          },
          "metadata": {
            "needs_background": "light"
          }
        },
        {
          "output_type": "stream",
          "name": "stdout",
          "text": [
            "time: 275 ms (started: 2022-09-03 06:26:36 +00:00)\n"
          ]
        }
      ],
      "source": [
        "plot_sample(xtest,ytrain,99)"
      ]
    },
    {
      "cell_type": "code",
      "execution_count": 17,
      "metadata": {
        "colab": {
          "base_uri": "https://localhost:8080/",
          "height": 815
        },
        "id": "-1fPXZsuGBlf",
        "outputId": "1ecc84e7-300d-4460-8af0-268202cddfd2"
      },
      "outputs": [
        {
          "output_type": "display_data",
          "data": {
            "text/plain": [
              "<Figure size 1080x144 with 1 Axes>"
            ],
            "image/png": "[encoded data removed]"
          },
          "metadata": {
            "needs_background": "light"
          }
        },
        {
          "output_type": "display_data",
          "data": {
            "text/plain": [
              "<Figure size 1080x144 with 1 Axes>"
            ],
            "image/png": "[encoded data removed]"
          },
          "metadata": {
            "needs_background": "light"
          }
        },
        {
          "output_type": "display_data",
          "data": {
            "text/plain": [
              "<Figure size 1080x144 with 1 Axes>"
            ],
            "image/png": "[encoded data removed]"
          },
          "metadata": {
            "needs_background": "light"
          }
        },
        {
          "output_type": "display_data",
          "data": {
            "text/plain": [
              "<Figure size 1080x144 with 1 Axes>"
            ],
            "image/png": "[encoded data removed]"
          },
          "metadata": {
            "needs_background": "light"
          }
        },
        {
          "output_type": "display_data",
          "data": {
            "text/plain": [
              "<Figure size 1080x144 with 1 Axes>"
            ],
            "image/png": "[encoded data removed]"
          },
          "metadata": {
            "needs_background": "light"
          }
        },
        {
          "output_type": "stream",
          "name": "stdout",
          "text": [
            "time: 1.03 s (started: 2022-09-03 06:26:36 +00:00)\n"
          ]
        }
      ],
      "source": [
        "x=xtrain\n",
        "y=ytrain\n",
        "for i in ytrain[:5]:\n",
        "  plot_sample(x,y,i)"
      ]
    },
    {
      "cell_type": "markdown",
      "metadata": {
        "id": "xOEme122FK0y"
      },
      "source": [
        "#Preprocesses"
      ]
    },
    {
      "cell_type": "code",
      "execution_count": 18,
      "metadata": {
        "colab": {
          "base_uri": "https://localhost:8080/"
        },
        "id": "9boS4oArSn2z",
        "outputId": "cb991eac-c43e-4a8b-c064-f3395915a74c"
      },
      "outputs": [
        {
          "output_type": "stream",
          "name": "stdout",
          "text": [
            "time: 668 ms (started: 2022-09-03 06:26:37 +00:00)\n"
          ]
        }
      ],
      "source": [
        "#normalization\n",
        "xtrain_norm = xtrain / 255.0\n",
        "xtest_norm = xtest / 255.0"
      ]
    },
    {
      "cell_type": "code",
      "source": [],
      "metadata": {
        "id": "9x1ZuIPfcwMc",
        "colab": {
          "base_uri": "https://localhost:8080/"
        },
        "outputId": "161dd8c8-fcd8-4cc8-f896-37664ef40597"
      },
      "execution_count": 18,
      "outputs": [
        {
          "output_type": "stream",
          "name": "stdout",
          "text": [
            "time: 679 ms (started: 2022-09-03 06:26:37 +00:00)\n"
          ]
        }
      ]
    },
    {
      "cell_type": "markdown",
      "metadata": {
        "id": "nMt84KXYOrEB"
      },
      "source": [
        "# Model building"
      ]
    },
    {
      "cell_type": "code",
      "source": [
        "#to overcome overfitting problem, L2 normalizer and drop out layer is added \n",
        "cnn_model2 = models.Sequential([\n",
        "                               #conv1\n",
        "                               layers.Conv2D(filters=64,\n",
        "                                             kernel_size=(3,3),\n",
        "                                             padding='same',\n",
        "                                             strides=(1,1),\n",
        "                                             activation='relu',\n",
        "                                             input_shape=(32,32,3),\n",
        "                                             kernel_regularizer= tf.keras.regularizers.l2(0.001)                                        \n",
        "                                             ),\n",
        "                               layers.MaxPooling2D(pool_size=(2,2), strides=1),                            \n",
        "\n",
        "                               #conv2\n",
        "                               layers.Conv2D(filters=64,\n",
        "                                             kernel_size=(3,3),\n",
        "                                             padding='same',\n",
        "                                             activation='relu',\n",
        "                                             kernel_regularizer=tf.keras.regularizers.l2(0.001)),\n",
        "                               layers.MaxPooling2D((2,2), strides=1),\n",
        "                               \n",
        "                               #conv3\n",
        "                               layers.Conv2D(filters=64,\n",
        "                                             kernel_size=(3,3),\n",
        "                                             padding='same',\n",
        "                                             activation='relu',\n",
        "                                             kernel_regularizer=tf.keras.regularizers.l2(0.001)),\n",
        "                               layers.MaxPooling2D((2,2), strides=1),\n",
        "                               \n",
        "                               \n",
        "                               #conv4\n",
        "                               layers.Conv2D(filters=64,\n",
        "                                             kernel_size=(3,3),\n",
        "                                             padding='same',\n",
        "                                             activation='relu',\n",
        "                                             kernel_regularizer=tf.keras.regularizers.l2(0.001)),\n",
        "                               layers.MaxPooling2D((2,2), strides=1),                               \n",
        "\n",
        "                               #flatten layer and hidden layer\n",
        "                               layers.Flatten(),\n",
        "                               layers.Dense(500,activation='relu'),\n",
        "                               tf.keras.layers.Dropout(0.2),\n",
        "\n",
        "                               #o/p layer\n",
        "                               layers.Dense(10, activation='softmax')\n",
        "                               ])\n",
        "\n",
        "cnn_model2.compile(optimizer='adam', loss='sparse_categorical_crossentropy', metrics=['accuracy'])\n",
        "print(cnn_model2.summary())"
      ],
      "metadata": {
        "colab": {
          "base_uri": "https://localhost:8080/"
        },
        "id": "21qDv07EOTAo",
        "outputId": "a1bea9dc-a3e3-46ee-9b4e-e2b4a53891db"
      },
      "execution_count": 19,
      "outputs": [
        {
          "output_type": "stream",
          "name": "stdout",
          "text": [
            "Model: \"sequential\"\n",
            "_________________________________________________________________\n",
            " Layer (type)                Output Shape              Param #   \n",
            "=================================================================\n",
            " conv2d (Conv2D)             (None, 32, 32, 64)        1792      \n",
            "                                                                 \n",
            " max_pooling2d (MaxPooling2D  (None, 31, 31, 64)       0         \n",
            " )                                                               \n",
            "                                                                 \n",
            " conv2d_1 (Conv2D)           (None, 31, 31, 64)        36928     \n",
            "                                                                 \n",
            " max_pooling2d_1 (MaxPooling  (None, 30, 30, 64)       0         \n",
            " 2D)                                                             \n",
            "                                                                 \n",
            " conv2d_2 (Conv2D)           (None, 30, 30, 64)        36928     \n",
            "                                                                 \n",
            " max_pooling2d_2 (MaxPooling  (None, 29, 29, 64)       0         \n",
            " 2D)                                                             \n",
            "                                                                 \n",
            " conv2d_3 (Conv2D)           (None, 29, 29, 64)        36928     \n",
            "                                                                 \n",
            " max_pooling2d_3 (MaxPooling  (None, 28, 28, 64)       0         \n",
            " 2D)                                                             \n",
            "                                                                 \n",
            " flatten (Flatten)           (None, 50176)             0         \n",
            "                                                                 \n",
            " dense (Dense)               (None, 500)               25088500  \n",
            "                                                                 \n",
            " dropout (Dropout)           (None, 500)               0         \n",
            "                                                                 \n",
            " dense_1 (Dense)             (None, 10)                5010      \n",
            "                                                                 \n",
            "=================================================================\n",
            "Total params: 25,206,086\n",
            "Trainable params: 25,206,086\n",
            "Non-trainable params: 0\n",
            "_________________________________________________________________\n",
            "None\n",
            "time: 4.68 s (started: 2022-09-03 06:26:38 +00:00)\n"
          ]
        }
      ]
    },
    {
      "cell_type": "code",
      "source": [
        "print(cnn_model2.fit(xtrain_norm,ytrain,epochs=10, batch_size=256))"
      ],
      "metadata": {
        "colab": {
          "base_uri": "https://localhost:8080/"
        },
        "id": "e-HtXZtXlxRi",
        "outputId": "dad78797-22be-4301-944c-aaa30060005f"
      },
      "execution_count": 23,
      "outputs": [
        {
          "output_type": "stream",
          "name": "stdout",
          "text": [
            "Epoch 1/10\n",
            "196/196 [==============================] - 13s 63ms/step - loss: 1.1078 - accuracy: 0.6269\n",
            "Epoch 2/10\n",
            "196/196 [==============================] - 12s 62ms/step - loss: 0.9608 - accuracy: 0.6820\n",
            "Epoch 3/10\n",
            "196/196 [==============================] - 12s 63ms/step - loss: 0.8505 - accuracy: 0.7221\n",
            "Epoch 4/10\n",
            "196/196 [==============================] - 12s 63ms/step - loss: 0.7556 - accuracy: 0.7555\n",
            "Epoch 5/10\n",
            "196/196 [==============================] - 12s 62ms/step - loss: 0.6511 - accuracy: 0.7925\n",
            "Epoch 6/10\n",
            "196/196 [==============================] - 12s 63ms/step - loss: 0.5651 - accuracy: 0.8244\n",
            "Epoch 7/10\n",
            "196/196 [==============================] - 12s 63ms/step - loss: 0.4861 - accuracy: 0.8514\n",
            "Epoch 8/10\n",
            "196/196 [==============================] - 12s 63ms/step - loss: 0.4054 - accuracy: 0.8794\n",
            "Epoch 9/10\n",
            "196/196 [==============================] - 12s 63ms/step - loss: 0.3509 - accuracy: 0.9016\n",
            "Epoch 10/10\n",
            "196/196 [==============================] - 13s 64ms/step - loss: 0.3063 - accuracy: 0.9174\n",
            "<keras.callbacks.History object at 0x7fa68022dcd0>\n",
            "time: 2min 22s (started: 2022-09-03 06:27:34 +00:00)\n"
          ]
        }
      ]
    },
    {
      "cell_type": "markdown",
      "source": [
        "#Evaluation"
      ],
      "metadata": {
        "id": "At3iv36TVXd_"
      }
    },
    {
      "cell_type": "code",
      "source": [
        "print(cnn_model2.evaluate(xtest_norm,ytest))"
      ],
      "metadata": {
        "colab": {
          "base_uri": "https://localhost:8080/"
        },
        "id": "q4T420jFVWcB",
        "outputId": "c86e7483-61ed-4dae-c317-61397f8afb07"
      },
      "execution_count": 24,
      "outputs": [
        {
          "output_type": "stream",
          "name": "stdout",
          "text": [
            "313/313 [==============================] - 2s 6ms/step - loss: 1.1253 - accuracy: 0.7230\n",
            "[1.1253432035446167, 0.7229999899864197]\n",
            "time: 2.24 s (started: 2022-09-03 06:29:57 +00:00)\n"
          ]
        }
      ]
    },
    {
      "cell_type": "code",
      "execution_count": 25,
      "metadata": {
        "colab": {
          "base_uri": "https://localhost:8080/"
        },
        "id": "2MHGdf1NAgCl",
        "outputId": "fa5000a5-1c0f-4b55-c358-e9cc039d6ebd"
      },
      "outputs": [
        {
          "output_type": "stream",
          "name": "stdout",
          "text": [
            "time: 1.49 s (started: 2022-09-03 06:29:59 +00:00)\n"
          ]
        }
      ],
      "source": [
        "#model prediction on test data\n",
        "yprds=cnn_model2.predict(xtest_norm)\n",
        "yprds=[np.argmax(i) for i in yprds]"
      ]
    },
    {
      "cell_type": "code",
      "execution_count": 26,
      "metadata": {
        "colab": {
          "base_uri": "https://localhost:8080/"
        },
        "id": "_efnYPiyDsRd",
        "outputId": "4dfd4a15-1445-4b1d-f0ac-7e5f68c917ba"
      },
      "outputs": [
        {
          "output_type": "stream",
          "name": "stdout",
          "text": [
            "predicted values:-> [5, 8, 1, 0, 4]\n",
            "Actual values:-> [3 8 8 0 6]\n",
            "time: 1.08 ms (started: 2022-09-03 06:30:01 +00:00)\n"
          ]
        }
      ],
      "source": [
        "print(f\"predicted values:-> {yprds[:5]}\\nActual values:-> {ytest[:5].reshape(-1,)}\")"
      ]
    },
    {
      "cell_type": "code",
      "execution_count": 27,
      "metadata": {
        "colab": {
          "base_uri": "https://localhost:8080/"
        },
        "id": "E15q3X40EMpa",
        "outputId": "19d67b4b-958f-4c60-cecb-c75fcc50c363"
      },
      "outputs": [
        {
          "output_type": "stream",
          "name": "stdout",
          "text": [
            "              precision    recall  f1-score   support\n",
            "\n",
            "           0       0.71      0.81      0.76      1000\n",
            "           1       0.83      0.86      0.84      1000\n",
            "           2       0.66      0.61      0.63      1000\n",
            "           3       0.53      0.49      0.51      1000\n",
            "           4       0.64      0.65      0.65      1000\n",
            "           5       0.69      0.58      0.63      1000\n",
            "           6       0.76      0.83      0.79      1000\n",
            "           7       0.68      0.84      0.75      1000\n",
            "           8       0.89      0.76      0.82      1000\n",
            "           9       0.84      0.80      0.82      1000\n",
            "\n",
            "    accuracy                           0.72     10000\n",
            "   macro avg       0.72      0.72      0.72     10000\n",
            "weighted avg       0.72      0.72      0.72     10000\n",
            "\n",
            "time: 39 ms (started: 2022-09-03 06:30:01 +00:00)\n"
          ]
        }
      ],
      "source": [
        "print(classification_report(ytest,yprds))"
      ]
    },
    {
      "cell_type": "markdown",
      "metadata": {
        "id": "wvgJMvCPcwKY"
      },
      "source": [
        "#Model evaluation on user input images"
      ]
    },
    {
      "cell_type": "code",
      "source": [
        "path=r\"/content/National-Horse-Day-1-300x300.jpg\""
      ],
      "metadata": {
        "colab": {
          "base_uri": "https://localhost:8080/"
        },
        "id": "Qws9DnAmpSlp",
        "outputId": "ca9b1df6-0bdf-4897-88de-142de9a26bd8"
      },
      "execution_count": 28,
      "outputs": [
        {
          "output_type": "stream",
          "name": "stdout",
          "text": [
            "time: 694 µs (started: 2022-09-03 06:31:06 +00:00)\n"
          ]
        }
      ]
    },
    {
      "cell_type": "code",
      "execution_count": 29,
      "metadata": {
        "colab": {
          "base_uri": "https://localhost:8080/"
        },
        "id": "tdY4g681xiWJ",
        "outputId": "9d4615a7-d5a2-4272-c371-12ef9822a88f"
      },
      "outputs": [
        {
          "output_type": "stream",
          "name": "stdout",
          "text": [
            "time: 21 ms (started: 2022-09-03 06:31:07 +00:00)\n"
          ]
        }
      ],
      "source": [
        "inmage = image.load_img(path) "
      ]
    },
    {
      "cell_type": "code",
      "execution_count": 30,
      "metadata": {
        "colab": {
          "base_uri": "https://localhost:8080/",
          "height": 305
        },
        "id": "t5U0ZGWcxm47",
        "outputId": "25aeb9a9-16f7-4089-e6fa-8e4779f449ac"
      },
      "outputs": [
        {
          "output_type": "execute_result",
          "data": {
            "text/plain": [
              "<matplotlib.image.AxesImage at 0x7fa68016a5d0>"
            ]
          },
          "metadata": {},
          "execution_count": 30
        },
        {
          "output_type": "display_data",
          "data": {
            "text/plain": [
              "<Figure size 432x288 with 1 Axes>"
            ],
            "image/png": "[encoded data removed]"
          },
          "metadata": {
            "needs_background": "light"
          }
        },
        {
          "output_type": "stream",
          "name": "stdout",
          "text": [
            "time: 174 ms (started: 2022-09-03 06:31:08 +00:00)\n"
          ]
        }
      ],
      "source": [
        "plt.imshow(inmage)"
      ]
    },
    {
      "cell_type": "code",
      "execution_count": 31,
      "metadata": {
        "id": "AcjilYuexuRg",
        "colab": {
          "base_uri": "https://localhost:8080/"
        },
        "outputId": "51f143fa-63b0-4fa6-e28f-590d2285777b"
      },
      "outputs": [
        {
          "output_type": "stream",
          "name": "stdout",
          "text": [
            "[[[ 27  34  27]\n",
            "  [ 17  24  17]\n",
            "  [ 25  26  24]\n",
            "  ...\n",
            "  [ 42 103 165]\n",
            "  [  5  46  68]\n",
            "  [  0  16  15]]\n",
            "\n",
            " [[ 32  37  28]\n",
            "  [ 45  50  41]\n",
            "  [ 60  62  56]\n",
            "  ...\n",
            "  [ 30  88 147]\n",
            "  [  4  47  68]\n",
            "  [  0  18  21]]\n",
            "\n",
            " [[ 26  31  16]\n",
            "  [ 38  40  28]\n",
            "  [ 41  42  32]\n",
            "  ...\n",
            "  [  6  62 109]\n",
            "  [  2  46  70]\n",
            "  [  0  26  38]]\n",
            "\n",
            " ...\n",
            "\n",
            " [[ 22  38  51]\n",
            "  [ 32  48  60]\n",
            "  [ 38  53  62]\n",
            "  ...\n",
            "  [ 28  54  61]\n",
            "  [ 27  53  60]\n",
            "  [ 30  56  63]]\n",
            "\n",
            " [[ 34  48  60]\n",
            "  [ 42  56  68]\n",
            "  [ 40  52  62]\n",
            "  ...\n",
            "  [ 26  50  56]\n",
            "  [ 29  53  59]\n",
            "  [ 38  62  68]]\n",
            "\n",
            " [[ 38  52  64]\n",
            "  [ 48  63  72]\n",
            "  [ 42  54  64]\n",
            "  ...\n",
            "  [ 27  52  56]\n",
            "  [ 34  58  64]\n",
            "  [ 48  72  78]]]\n",
            "time: 31.2 ms (started: 2022-09-03 06:31:08 +00:00)\n"
          ]
        }
      ],
      "source": [
        "uimage= cv2.imread(path)\n",
        "print(uimage)"
      ]
    },
    {
      "cell_type": "code",
      "source": [
        "print(uimage.shape)"
      ],
      "metadata": {
        "colab": {
          "base_uri": "https://localhost:8080/"
        },
        "id": "leoIF4XAa4tZ",
        "outputId": "574e7cb1-4b51-49d5-95e2-a15e4eada8fd"
      },
      "execution_count": 32,
      "outputs": [
        {
          "output_type": "stream",
          "name": "stdout",
          "text": [
            "(300, 300, 3)\n",
            "time: 844 µs (started: 2022-09-03 06:31:09 +00:00)\n"
          ]
        }
      ]
    },
    {
      "cell_type": "code",
      "source": [
        "IMAGE_CHANNEL = 3 \n",
        "\n",
        "def prepare(filepath):\n",
        "    IMG_SIZE = 32\n",
        "    img_array = cv2.imread(filepath)\n",
        "    new_array = cv2.resize(img_array, (IMG_SIZE, IMG_SIZE))\n",
        "    return new_array.reshape(-1, IMG_SIZE, IMG_SIZE, IMAGE_CHANNEL)"
      ],
      "metadata": {
        "colab": {
          "base_uri": "https://localhost:8080/"
        },
        "id": "ho9pdHv-bH81",
        "outputId": "c11f890c-04bb-408d-8bdc-2e919c82c43d"
      },
      "execution_count": 33,
      "outputs": [
        {
          "output_type": "stream",
          "name": "stdout",
          "text": [
            "time: 1.69 ms (started: 2022-09-03 06:31:09 +00:00)\n"
          ]
        }
      ]
    },
    {
      "cell_type": "code",
      "execution_count": 34,
      "metadata": {
        "id": "D-XvXFO6zfYm",
        "colab": {
          "base_uri": "https://localhost:8080/"
        },
        "outputId": "acf30cf2-6c64-4e43-f81f-77b6ea90aa0b"
      },
      "outputs": [
        {
          "output_type": "stream",
          "name": "stdout",
          "text": [
            "(1, 32, 32, 3)\n",
            "time: 15.5 ms (started: 2022-09-03 06:31:09 +00:00)\n"
          ]
        }
      ],
      "source": [
        "userimg=prepare(path)/255\n",
        "print(userimg.shape)"
      ]
    },
    {
      "cell_type": "code",
      "source": [
        "# normalized and resized\n",
        "print(userimg[0])"
      ],
      "metadata": {
        "colab": {
          "base_uri": "https://localhost:8080/"
        },
        "id": "k-m1bu9Opc2Z",
        "outputId": "4f23a468-690b-4927-cd14-08589c180c68"
      },
      "execution_count": 35,
      "outputs": [
        {
          "output_type": "stream",
          "name": "stdout",
          "text": [
            "[[[0.09019608 0.0627451  0.01176471]\n",
            "  [0.10588235 0.09803922 0.01568627]\n",
            "  [0.07058824 0.05882353 0.        ]\n",
            "  ...\n",
            "  [0.         0.16862745 0.28235294]\n",
            "  [0.11372549 0.51372549 0.72156863]\n",
            "  [0.11372549 0.16078431 0.23921569]]\n",
            "\n",
            " [[0.18431373 0.17254902 0.14901961]\n",
            "  [0.12156863 0.11372549 0.02352941]\n",
            "  [0.08627451 0.08627451 0.00392157]\n",
            "  ...\n",
            "  [0.10980392 0.1372549  0.04313725]\n",
            "  [0.0745098  0.09411765 0.        ]\n",
            "  [0.15294118 0.08627451 0.00784314]]\n",
            "\n",
            " [[0.08627451 0.09803922 0.0627451 ]\n",
            "  [0.13333333 0.13333333 0.01176471]\n",
            "  [0.10196078 0.07843137 0.00392157]\n",
            "  ...\n",
            "  [0.02352941 0.09019608 0.1254902 ]\n",
            "  [0.07843137 0.09411765 0.09411765]\n",
            "  [0.12941176 0.11372549 0.00392157]]\n",
            "\n",
            " ...\n",
            "\n",
            " [[0.14509804 0.25882353 0.29019608]\n",
            "  [0.19607843 0.30588235 0.34901961]\n",
            "  [0.11372549 0.18823529 0.23137255]\n",
            "  ...\n",
            "  [0.08627451 0.23529412 0.30588235]\n",
            "  [0.09803922 0.23137255 0.29019608]\n",
            "  [0.0745098  0.22745098 0.29019608]]\n",
            "\n",
            " [[0.18431373 0.26666667 0.28235294]\n",
            "  [0.15686275 0.23921569 0.26666667]\n",
            "  [0.12941176 0.18039216 0.21960784]\n",
            "  ...\n",
            "  [0.29411765 0.55294118 0.61960784]\n",
            "  [0.23137255 0.5372549  0.64705882]\n",
            "  [0.18039216 0.40392157 0.50196078]]\n",
            "\n",
            " [[0.1254902  0.18039216 0.20392157]\n",
            "  [0.10980392 0.14509804 0.1372549 ]\n",
            "  [0.10980392 0.18823529 0.21960784]\n",
            "  ...\n",
            "  [0.08235294 0.20784314 0.29019608]\n",
            "  [0.10196078 0.25098039 0.39607843]\n",
            "  [0.12941176 0.25490196 0.3372549 ]]]\n",
            "time: 2.62 ms (started: 2022-09-03 06:31:09 +00:00)\n"
          ]
        }
      ]
    },
    {
      "cell_type": "code",
      "source": [
        "prediction = cnn_model2.predict([userimg])\n",
        "ynew=[np.argmax(i) for i in prediction]\n",
        "print(classes[ynew[0]])"
      ],
      "metadata": {
        "colab": {
          "base_uri": "https://localhost:8080/"
        },
        "id": "zNGB4zYG2Bfz",
        "outputId": "108970bc-1dda-4b6c-9d13-b86e7366d4c2"
      },
      "execution_count": 36,
      "outputs": [
        {
          "output_type": "stream",
          "name": "stdout",
          "text": [
            "horse\n",
            "time: 197 ms (started: 2022-09-03 06:31:10 +00:00)\n"
          ]
        }
      ]
    }
  ],
  "metadata": {
    "accelerator": "GPU",
    "colab": {
      "collapsed_sections": [],
      "provenance": []
    },
    "gpuClass": "standard",
    "kernelspec": {
      "display_name": "Python 3",
      "name": "python3"
    },
    "language_info": {
      "name": "python"
    }
  },
  "nbformat": 4,
  "nbformat_minor": 0
}